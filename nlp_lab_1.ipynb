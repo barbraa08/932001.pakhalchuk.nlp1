{
  "nbformat": 4,
  "nbformat_minor": 0,
  "metadata": {
    "colab": {
      "provenance": []
    },
    "kernelspec": {
      "name": "python3",
      "display_name": "Python 3"
    },
    "language_info": {
      "name": "python"
    }
  },
  "cells": [
    {
      "cell_type": "code",
      "source": [
        "!pip install pymorphy2"
      ],
      "metadata": {
        "colab": {
          "base_uri": "https://localhost:8080/"
        },
        "id": "phoRlj-Cfswz",
        "outputId": "9b594e16-8807-4853-9500-73d1bb786008"
      },
      "execution_count": 1,
      "outputs": [
        {
          "output_type": "stream",
          "name": "stdout",
          "text": [
            "Collecting pymorphy2\n",
            "  Downloading pymorphy2-0.9.1-py3-none-any.whl (55 kB)\n",
            "\u001b[?25l     \u001b[90m━━━━━━━━━━━━━━━━━━━━━━━━━━━━━━━━━━━━━━━━\u001b[0m \u001b[32m0.0/55.5 kB\u001b[0m \u001b[31m?\u001b[0m eta \u001b[36m-:--:--\u001b[0m\r\u001b[2K     \u001b[90m━━━━━━━━━━━━━━━━━━━━━━━━━━━━━━━━━━━━━━━━\u001b[0m \u001b[32m55.5/55.5 kB\u001b[0m \u001b[31m1.5 MB/s\u001b[0m eta \u001b[36m0:00:00\u001b[0m\n",
            "\u001b[?25hCollecting dawg-python>=0.7.1 (from pymorphy2)\n",
            "  Downloading DAWG_Python-0.7.2-py2.py3-none-any.whl (11 kB)\n",
            "Collecting pymorphy2-dicts-ru<3.0,>=2.4 (from pymorphy2)\n",
            "  Downloading pymorphy2_dicts_ru-2.4.417127.4579844-py2.py3-none-any.whl (8.2 MB)\n",
            "\u001b[2K     \u001b[90m━━━━━━━━━━━━━━━━━━━━━━━━━━━━━━━━━━━━━━━━\u001b[0m \u001b[32m8.2/8.2 MB\u001b[0m \u001b[31m19.6 MB/s\u001b[0m eta \u001b[36m0:00:00\u001b[0m\n",
            "\u001b[?25hCollecting docopt>=0.6 (from pymorphy2)\n",
            "  Downloading docopt-0.6.2.tar.gz (25 kB)\n",
            "  Preparing metadata (setup.py) ... \u001b[?25l\u001b[?25hdone\n",
            "Building wheels for collected packages: docopt\n",
            "  Building wheel for docopt (setup.py) ... \u001b[?25l\u001b[?25hdone\n",
            "  Created wheel for docopt: filename=docopt-0.6.2-py2.py3-none-any.whl size=13705 sha256=29d64b29de15e25efccb945c0fb50d22bbc4b9b9af0125793e3d624df13f8200\n",
            "  Stored in directory: /root/.cache/pip/wheels/fc/ab/d4/5da2067ac95b36618c629a5f93f809425700506f72c9732fac\n",
            "Successfully built docopt\n",
            "Installing collected packages: pymorphy2-dicts-ru, docopt, dawg-python, pymorphy2\n",
            "Successfully installed dawg-python-0.7.2 docopt-0.6.2 pymorphy2-0.9.1 pymorphy2-dicts-ru-2.4.417127.4579844\n"
          ]
        }
      ]
    },
    {
      "cell_type": "code",
      "source": [
        "import nltk\n",
        "from nltk.tokenize import word_tokenize\n",
        "nltk.download('punkt')\n",
        "from nltk import sent_tokenize\n",
        "import pymorphy2\n",
        "from nltk.corpus import stopwords\n",
        "nltk.download('stopwords')\n",
        "import re"
      ],
      "metadata": {
        "colab": {
          "base_uri": "https://localhost:8080/"
        },
        "id": "OxD-9-yufvjX",
        "outputId": "072a290f-b15e-4027-fb31-563d35fb05f4"
      },
      "execution_count": 25,
      "outputs": [
        {
          "output_type": "stream",
          "name": "stderr",
          "text": [
            "[nltk_data] Downloading package punkt to /root/nltk_data...\n",
            "[nltk_data]   Package punkt is already up-to-date!\n",
            "[nltk_data] Downloading package stopwords to /root/nltk_data...\n",
            "[nltk_data]   Package stopwords is already up-to-date!\n"
          ]
        }
      ]
    },
    {
      "cell_type": "code",
      "source": [
        "from google.colab import drive\n",
        "drive.mount('/content/drive')"
      ],
      "metadata": {
        "colab": {
          "base_uri": "https://localhost:8080/"
        },
        "id": "svrD6t1Af0WI",
        "outputId": "094e8a03-e0f0-4a93-9b90-f74ffcbfb1b1"
      },
      "execution_count": 3,
      "outputs": [
        {
          "output_type": "stream",
          "name": "stdout",
          "text": [
            "Mounted at /content/drive\n"
          ]
        }
      ]
    },
    {
      "cell_type": "code",
      "source": [
        "txt = open(\"/content/drive/MyDrive/text.txt\")\n",
        "m = pymorphy2.MorphAnalyzer()\n",
        "def define_tag(word):\n",
        "    w = m.parse(word)[0]\n",
        "    tag = w.tag\n",
        "    return tag\n",
        "text = txt.read()\n",
        "text = re.sub(r'[^\\w\\s]', '', text)\n",
        "stop_words = set(stopwords.words('russian'))\n",
        "tokens = [token for token in word_tokenize(text) if token.lower() not in stop_words]"
      ],
      "metadata": {
        "id": "5GDsGXmNf7Ff"
      },
      "execution_count": 34,
      "outputs": []
    },
    {
      "cell_type": "code",
      "source": [
        "m = pymorphy2.MorphAnalyzer()\n",
        "for token in tokens:\n",
        "  define_tag(token)\n",
        "pairs = []\n",
        "for i in range(len(tokens) - 1):\n",
        "    current_word = tokens[i]\n",
        "    next_word = tokens[i + 1]\n",
        "    tag1 = define_tag(current_word)\n",
        "    tag2 = define_tag(next_word)\n",
        "    if (((tag1.POS in ['NOUN', 'ADJF']) or (tag2.POS in ['NOUN', 'ADJF'])) and (tag1.gender == tag2.gender) and (tag1.number == tag2.number) and (tag1.case == tag2.case)):\n",
        "        pairs.append((m.parse(current_word)[0].normal_form, m.parse(next_word)[0].normal_form))\n",
        "\n",
        "for pair in pairs:\n",
        "    print(f\"{pair[0]}, {pair[1]}\")"
      ],
      "metadata": {
        "colab": {
          "base_uri": "https://localhost:8080/"
        },
        "id": "RGKAICDuhUXj",
        "outputId": "c4371591-6f47-4abd-c859-06dfdb01fada"
      },
      "execution_count": 35,
      "outputs": [
        {
          "output_type": "stream",
          "name": "stdout",
          "text": [
            "офицер, учёный\n",
            "учёный, писатель\n",
            "писатель, путешественник\n",
            "путешественник, владимир\n",
            "владимир, арсеньев\n",
            "один, ведомство\n",
            "академический, литературный\n",
            "альфред, брем\n",
            "брем, фенимор\n",
            "фенимор, купер\n",
            "географ, этнограф\n",
            "этнограф, лирик\n",
            "лирик, мистик\n",
            "мистик, археолог\n",
            "археолог, борец\n",
            "первый, российский\n",
            "злостный, всесокрушающий\n",
            "всесокрушающий, хищник\n",
            "мудрый, хозяин\n",
            "приамурский, край\n",
            "проводник, товарищ\n",
            "товарищ, учитель\n",
            "незаконный, промысл\n",
            "зелёный, расти\n",
            "расти, живой\n",
            "знаменитый, исследователь\n",
            "географ, фанатичный\n",
            "фанатичный, охотник\n",
            "охотник, николай\n",
            "николай, пржевальский\n",
            "уссурийский, край\n",
            "крестьянин, солдат\n",
            "этот, повод\n",
            "мудрый, арсеньевский\n",
            "арсеньевский, проводник\n",
            "советский, союз\n"
          ]
        }
      ]
    }
  ]
}